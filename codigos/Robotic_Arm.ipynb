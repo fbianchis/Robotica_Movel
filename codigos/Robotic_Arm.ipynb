{
 "cells": [
  {
   "cell_type": "markdown",
   "metadata": {
    "colab_type": "text",
    "id": "view-in-github"
   },
   "source": [
    "<a href=\"https://colab.research.google.com/github/jefersonjlima/2dof-arm/blob/master/notebook/Robotic_Arm.ipynb\" target=\"_parent\"><img src=\"https://colab.research.google.com/assets/colab-badge.svg\" alt=\"Open In Colab\"/></a>"
   ]
  },
  {
   "cell_type": "code",
   "execution_count": 1,
   "metadata": {
    "colab": {},
    "colab_type": "code",
    "id": "zv1P0376oiXi"
   },
   "outputs": [],
   "source": [
    "import numpy as np\n",
    "from numpy import sin, cos\n",
    "from numpy.linalg import inv\n",
    "import matplotlib.pylab as plt\n",
    "import matplotlib.animation as animation\n",
    "from IPython.display import HTML"
   ]
  },
  {
   "cell_type": "markdown",
   "metadata": {
    "colab_type": "text",
    "id": "iFyrKn_frXwJ"
   },
   "source": [
    "## Define Integration Method"
   ]
  },
  {
   "cell_type": "markdown",
   "metadata": {
    "colab_type": "text",
    "id": "qMSQ8DRLoZo8"
   },
   "source": [
    "The most widely known member of the Runge–Kutta family is generally referred to as \"RK4\", the \"classic Runge–Kutta method\" or simply as \"the Runge–Kutta method\". [<sup>1</sup>](https://codereview.stackexchange.com/questions/163499/ode45-solver-implementation-in-python)"
   ]
  },
  {
   "cell_type": "code",
   "execution_count": 2,
   "metadata": {
    "colab": {},
    "colab_type": "code",
    "id": "qOGngrbAqgiM"
   },
   "outputs": [],
   "source": [
    "def ode45_step(f, x, t, dt, *args):\n",
    "    \"\"\"\n",
    "    One step of 4th Order Runge-Kutta method\n",
    "    \"\"\"\n",
    "    k = dt\n",
    "    k1 = k * f(t, x, *args)\n",
    "    k2 = k * f(t + 0.5*k, x + 0.5*k1, *args)\n",
    "    k3 = k * f(t + 0.5*k, x + 0.5*k2, *args)\n",
    "    k4 = k * f(t + dt, x + k3, *args)\n",
    "    return x + 1/6. * (k1 + 2*k2 + 2*k3 + k4)\n",
    "\n",
    "def ode45(f, t, x0, *args):\n",
    "    \"\"\"\n",
    "    4th Order Runge-Kutta method\n",
    "    \"\"\"\n",
    "    n = len(t)\n",
    "    x = np.zeros((n, len(x0)))\n",
    "    x[0] = x0\n",
    "    for i in range(n-1):\n",
    "        dt = t[i+1] - t[i] \n",
    "        x[i+1] = ode45_step(f, x[i], t[i], dt, *args)\n",
    "    return x"
   ]
  },
  {
   "cell_type": "markdown",
   "metadata": {
    "colab_type": "text",
    "id": "g6HcN6Dq6zS_"
   },
   "source": [
    "# Model"
   ]
  },
  {
   "cell_type": "code",
   "execution_count": 3,
   "metadata": {
    "colab": {},
    "colab_type": "code",
    "id": "sqiVc_TctSmX"
   },
   "outputs": [],
   "source": [
    "# parameters\n",
    "L1 = 1\n",
    "L2 = 1\n",
    "M1 = 1\n",
    "M2 = 1\n",
    "g = 9.8\n",
    "\n",
    "def robot(t,X):\n",
    "    '''\n",
    "    2 DOF Robot Model\n",
    "        q1 = theta1\n",
    "        q2 = theta2\n",
    "    '''\n",
    "    # states\n",
    "    q1  = X[0]\n",
    "    q2  = X[1]\n",
    "    dq1 = X[2] \n",
    "    dq2 = X[3]\n",
    "\n",
    "    # Inertial matrix\n",
    "    Mq = np.array([\n",
    "                [(M1+M2)*L1**2+M2*L2**2+2*M2*L1*L2*cos(q2)  ,  M2*L2**2+M2*L1*L2*cos(q2)],\n",
    "                [M2*L2**2+M2*L1*L2*cos(q2)                  , M2*L2**2]\n",
    "                    ]) \n",
    "    # C Matrix\n",
    "    Cq = np.array([\n",
    "                    [-M2*L1*L2*sin(q2)*(2*dq1*dq2+dq2**2)],\n",
    "                    [-M2*L1*L2*sin(q2)*dq1*dq2]\n",
    "                    ])\n",
    "    # Gravitational matrix \n",
    "    Gq = np.array([\n",
    "                    [-(M1+M2)*g*L1*sin(q1)-M2*g*L2*sin(q1+q2)],\n",
    "                    [-M2*g*L2*sin(q1+q2)]\n",
    "                   ])\n",
    "\n",
    "    # Friction Force\n",
    "    #   incluir o vetor de atrito aqui\n",
    "    ks = 0\n",
    "    Fa = ks * np.array([[dq1],[dq1]])\n",
    "\n",
    "    # Atuator\n",
    "    U_gain = 0\n",
    "    tau1 = tau2 = 0\n",
    "    Eu = U_gain * np.array([[tau1],[tau2]])\n",
    "\n",
    "    # Model\n",
    "    xdot = np.zeros(4,)\n",
    "    #dinamic\n",
    "    q2dot = inv(Mq).dot(-Cq-Fa-Gq+Eu)\n",
    "\n",
    "    # states\n",
    "    xdot[0] = dq1\n",
    "    xdot[1] = dq2\n",
    "    xdot[2] = q2dot[0]\n",
    "    xdot[3] = q2dot[1]\n",
    "    \n",
    "    return xdot"
   ]
  },
  {
   "cell_type": "markdown",
   "metadata": {
    "colab_type": "text",
    "id": "tQCnAK_86QDl"
   },
   "source": [
    "# Simulation"
   ]
  },
  {
   "cell_type": "code",
   "execution_count": 4,
   "metadata": {
    "colab": {},
    "colab_type": "code",
    "id": "ZpLV7gSOqgiU"
   },
   "outputs": [],
   "source": [
    "# int\n",
    "x0 = np.array([np.pi/2, 0, 0, 0])\n",
    "t0 = 0; tf = 20; steps = 1000\n",
    "\n",
    "t = np.linspace(t0, tf, steps)\n",
    "X = ode45(robot, t, x0)"
   ]
  },
  {
   "cell_type": "code",
   "execution_count": 5,
   "metadata": {
    "colab": {},
    "colab_type": "code",
    "id": "XrArM4GxoiB5"
   },
   "outputs": [],
   "source": [
    "# states\n",
    "q1  = X[:,0]\n",
    "q2  = X[:,1]\n",
    "dq1 = X[:,2] \n",
    "dq2 = X[:,3]\n",
    "\n",
    "# plot\n",
    "x1=L1*sin(q1)\n",
    "y1=L1*np.cos(q1)\n",
    "x2=L1*sin(q1)+L2*sin(q1+q2)\n",
    "y2=L1*cos(q1)+L2*cos(q1+q2)"
   ]
  },
  {
   "cell_type": "markdown",
   "metadata": {
    "colab_type": "text",
    "id": "ciaNhSNj3Ywi"
   },
   "source": [
    "# Animation"
   ]
  },
  {
   "cell_type": "code",
   "execution_count": 6,
   "metadata": {
    "colab": {
     "base_uri": "https://localhost:8080/",
     "height": 269
    },
    "colab_type": "code",
    "id": "dkoOAzYbLCbc",
    "outputId": "93513f66-b684-4da1-adf3-15275bfc8c57"
   },
   "outputs": [
    {
     "data": {
      "image/png": "[encoded data removed]",
      "text/plain": [
       "<Figure size 288x288 with 1 Axes>"
      ]
     },
     "metadata": {
      "needs_background": "light"
     },
     "output_type": "display_data"
    }
   ],
   "source": [
    "fig = plt.figure(figsize=(4,4))\n",
    "ax = fig.add_subplot(111, autoscale_on=False, xlim=(-2, 2), ylim=(-2, 2))\n",
    "ax.grid()\n",
    "plt.plot(x2,y2)\n",
    "\n",
    "\n",
    "line, = ax.plot([], [], 'o-', lw=2)\n",
    "time_template = 'time = %.1fs'\n",
    "time_text = ax.text(0.05, 0.9, '', transform=ax.transAxes)\n",
    "\n",
    "def init():\n",
    "    line.set_data([], [])\n",
    "    time_text.set_text('')\n",
    "    return line, time_text\n",
    "\n",
    "\n",
    "def animate(i):\n",
    "    thisx = [0, x1[i], x2[i]]\n",
    "    thisy = [0, y1[i], y2[i]]\n",
    "\n",
    "    line.set_data(thisx, thisy)\n",
    "#    time_text.set_text(time_template % (i*dt))\n",
    "    return line, time_text\n",
    "\n",
    "animate(0)\n",
    "ani = animation.FuncAnimation(fig, animate, np.arange(1, len(X)),\n",
    "                              interval=25, blit=True, init_func=init);"
   ]
  },
  {
   "cell_type": "code",
   "execution_count": 7,
   "metadata": {
    "colab": {
     "base_uri": "https://localhost:8080/",
     "height": 308
    },
    "colab_type": "code",
    "id": "7ujeAfGj4EjP",
    "outputId": "5d00686a-c162-49bb-cdf8-1dd119b5a2f9"
   },
   "outputs": [
    {
     "ename": "RuntimeError",
     "evalue": "Requested MovieWriter (ffmpeg) not available",
     "output_type": "error",
     "traceback": [
      "\u001b[0;31m---------------------------------------------------------------------------\u001b[0m",
      "\u001b[0;31mKeyError\u001b[0m                                  Traceback (most recent call last)",
      "\u001b[0;32m~/anaconda3/lib/python3.7/site-packages/matplotlib/animation.py\u001b[0m in \u001b[0;36m__getitem__\u001b[0;34m(self, name)\u001b[0m\n\u001b[1;32m    160\u001b[0m         \u001b[0;32mtry\u001b[0m\u001b[0;34m:\u001b[0m\u001b[0;34m\u001b[0m\u001b[0;34m\u001b[0m\u001b[0m\n\u001b[0;32m--> 161\u001b[0;31m             \u001b[0;32mreturn\u001b[0m \u001b[0mself\u001b[0m\u001b[0;34m.\u001b[0m\u001b[0mavail\u001b[0m\u001b[0;34m[\u001b[0m\u001b[0mname\u001b[0m\u001b[0;34m]\u001b[0m\u001b[0;34m\u001b[0m\u001b[0;34m\u001b[0m\u001b[0m\n\u001b[0m\u001b[1;32m    162\u001b[0m         \u001b[0;32mexcept\u001b[0m \u001b[0mKeyError\u001b[0m\u001b[0;34m:\u001b[0m\u001b[0;34m\u001b[0m\u001b[0;34m\u001b[0m\u001b[0m\n",
      "\u001b[0;31mKeyError\u001b[0m: 'ffmpeg'",
      "\nDuring handling of the above exception, another exception occurred:\n",
      "\u001b[0;31mRuntimeError\u001b[0m                              Traceback (most recent call last)",
      "\u001b[0;32m<ipython-input-7-f47e5100e4fd>\u001b[0m in \u001b[0;36m<module>\u001b[0;34m\u001b[0m\n\u001b[0;32m----> 1\u001b[0;31m \u001b[0mHTML\u001b[0m\u001b[0;34m(\u001b[0m\u001b[0mani\u001b[0m\u001b[0;34m.\u001b[0m\u001b[0mto_html5_video\u001b[0m\u001b[0;34m(\u001b[0m\u001b[0;34m)\u001b[0m\u001b[0;34m)\u001b[0m\u001b[0;34m\u001b[0m\u001b[0;34m\u001b[0m\u001b[0m\n\u001b[0m",
      "\u001b[0;32m~/anaconda3/lib/python3.7/site-packages/matplotlib/animation.py\u001b[0m in \u001b[0;36mto_html5_video\u001b[0;34m(self, embed_limit)\u001b[0m\n\u001b[1;32m   1324\u001b[0m                 \u001b[0;31m# We create a writer manually so that we can get the\u001b[0m\u001b[0;34m\u001b[0m\u001b[0;34m\u001b[0m\u001b[0;34m\u001b[0m\u001b[0m\n\u001b[1;32m   1325\u001b[0m                 \u001b[0;31m# appropriate size for the tag\u001b[0m\u001b[0;34m\u001b[0m\u001b[0;34m\u001b[0m\u001b[0;34m\u001b[0m\u001b[0m\n\u001b[0;32m-> 1326\u001b[0;31m                 \u001b[0mWriter\u001b[0m \u001b[0;34m=\u001b[0m \u001b[0mwriters\u001b[0m\u001b[0;34m[\u001b[0m\u001b[0mrcParams\u001b[0m\u001b[0;34m[\u001b[0m\u001b[0;34m'animation.writer'\u001b[0m\u001b[0;34m]\u001b[0m\u001b[0;34m]\u001b[0m\u001b[0;34m\u001b[0m\u001b[0;34m\u001b[0m\u001b[0m\n\u001b[0m\u001b[1;32m   1327\u001b[0m                 writer = Writer(codec='h264',\n\u001b[1;32m   1328\u001b[0m                                 \u001b[0mbitrate\u001b[0m\u001b[0;34m=\u001b[0m\u001b[0mrcParams\u001b[0m\u001b[0;34m[\u001b[0m\u001b[0;34m'animation.bitrate'\u001b[0m\u001b[0;34m]\u001b[0m\u001b[0;34m,\u001b[0m\u001b[0;34m\u001b[0m\u001b[0;34m\u001b[0m\u001b[0m\n",
      "\u001b[0;32m~/anaconda3/lib/python3.7/site-packages/matplotlib/animation.py\u001b[0m in \u001b[0;36m__getitem__\u001b[0;34m(self, name)\u001b[0m\n\u001b[1;32m    162\u001b[0m         \u001b[0;32mexcept\u001b[0m \u001b[0mKeyError\u001b[0m\u001b[0;34m:\u001b[0m\u001b[0;34m\u001b[0m\u001b[0;34m\u001b[0m\u001b[0m\n\u001b[1;32m    163\u001b[0m             raise RuntimeError(\n\u001b[0;32m--> 164\u001b[0;31m                 'Requested MovieWriter ({}) not available'.format(name))\n\u001b[0m\u001b[1;32m    165\u001b[0m \u001b[0;34m\u001b[0m\u001b[0m\n\u001b[1;32m    166\u001b[0m \u001b[0;34m\u001b[0m\u001b[0m\n",
      "\u001b[0;31mRuntimeError\u001b[0m: Requested MovieWriter (ffmpeg) not available"
     ]
    }
   ],
   "source": [
    "HTML(ani.to_html5_video())"
   ]
  },
  {
   "cell_type": "code",
   "execution_count": null,
   "metadata": {
    "colab": {},
    "colab_type": "code",
    "id": "WPEAqtnY4P0s"
   },
   "outputs": [],
   "source": []
  }
 ],
 "metadata": {
  "accelerator": "GPU",
  "colab": {
   "include_colab_link": true,
   "name": "Robotic Arm.ipynb",
   "provenance": []
  },
  "kernelspec": {
   "display_name": "Python 3",
   "language": "python",
   "name": "python3"
  },
  "language_info": {
   "codemirror_mode": {
    "name": "ipython",
    "version": 3
   },
   "file_extension": ".py",
   "mimetype": "text/x-python",
   "name": "python",
   "nbconvert_exporter": "python",
   "pygments_lexer": "ipython3",
   "version": "3.7.3"
  }
 },
 "nbformat": 4,
 "nbformat_minor": 1
}
