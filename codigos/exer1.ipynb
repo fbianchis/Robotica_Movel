{
 "cells": [
  {
   "cell_type": "markdown",
   "metadata": {},
   "source": [
    "## Robo 2DOF"
   ]
  },
  {
   "cell_type": "markdown",
   "metadata": {},
   "source": [
    "```TODO```"
   ]
  },
  {
   "cell_type": "code",
   "execution_count": 1,
   "metadata": {},
   "outputs": [],
   "source": [
    "## sympy modulo para trabalhar com equações simbólicas\n",
    "from sympy import *\n",
    "import numpy as np"
   ]
  },
  {
   "cell_type": "code",
   "execution_count": 2,
   "metadata": {
    "colab": {},
    "colab_type": "code",
    "id": "G48uApSYq-wj"
   },
   "outputs": [],
   "source": [
    "# variaveis\n",
    "theta1 = Function('theta_1'); theta2 = Function('theta_2');\n",
    "t,m1,m2,L1,L2, g = symbols('t m1 m2 L_1 L_2 g')"
   ]
  },
  {
   "cell_type": "code",
   "execution_count": 3,
   "metadata": {},
   "outputs": [],
   "source": [
    "def tf_h(theta, Q):\n",
    "    tf_matrix = Matrix([[cos(theta),   sin(theta),  0,      Q[0]],\n",
    "                        [sin(theta),   cos(theta),  0,      Q[1]],\n",
    "                        [0,            0,           1,      Q[2]],\n",
    "                        [0,            0,           0,      1]])\n",
    "    return tf_matrix"
   ]
  },
  {
   "cell_type": "code",
   "execution_count": 4,
   "metadata": {},
   "outputs": [
    {
     "data": {
      "text/latex": [
       "$\\displaystyle \\left[\\begin{matrix}0\\\\L_{1}\\\\0\\\\1\\end{matrix}\\right]$"
      ],
      "text/plain": [
       "Matrix([\n",
       "[  0],\n",
       "[L_1],\n",
       "[  0],\n",
       "[  1]])"
      ]
     },
     "execution_count": 4,
     "metadata": {},
     "output_type": "execute_result"
    }
   ],
   "source": [
    "P1 = Matrix([[0, L1, 0, 1]])\n",
    "P1.T"
   ]
  },
  {
   "cell_type": "code",
   "execution_count": 5,
   "metadata": {},
   "outputs": [
    {
     "data": {
      "text/latex": [
       "$\\displaystyle \\left[\\begin{matrix}L_{1} \\sin{\\left(\\theta_{1}{\\left(t \\right)} \\right)}\\\\L_{1} \\cos{\\left(\\theta_{1}{\\left(t \\right)} \\right)}\\\\0\\\\1\\end{matrix}\\right]$"
      ],
      "text/plain": [
       "Matrix([\n",
       "[L_1*sin(theta_1(t))],\n",
       "[L_1*cos(theta_1(t))],\n",
       "[                  0],\n",
       "[                  1]])"
      ]
     },
     "execution_count": 5,
     "metadata": {},
     "output_type": "execute_result"
    }
   ],
   "source": [
    "link1 = tf_h(theta1(t), [0,0,0])*P1.T\n",
    "link1"
   ]
  },
  {
   "cell_type": "code",
   "execution_count": 6,
   "metadata": {},
   "outputs": [
    {
     "data": {
      "text/latex": [
       "$\\displaystyle \\left[\\begin{matrix}0\\\\L_{2}\\\\0\\\\1\\end{matrix}\\right]$"
      ],
      "text/plain": [
       "Matrix([\n",
       "[  0],\n",
       "[L_2],\n",
       "[  0],\n",
       "[  1]])"
      ]
     },
     "execution_count": 6,
     "metadata": {},
     "output_type": "execute_result"
    }
   ],
   "source": [
    "P2 = Matrix([[0, L2, 0, 1]])\n",
    "P2.T"
   ]
  },
  {
   "cell_type": "code",
   "execution_count": 7,
   "metadata": {},
   "outputs": [
    {
     "data": {
      "text/latex": [
       "$\\displaystyle \\left[\\begin{matrix}L_{1} \\sin{\\left(\\theta_{1}{\\left(t \\right)} \\right)} + L_{2} \\sin{\\left(\\theta_{1}{\\left(t \\right)} + \\theta_{2}{\\left(t \\right)} \\right)}\\\\L_{1} \\cos{\\left(\\theta_{1}{\\left(t \\right)} \\right)} + L_{2} \\cos{\\left(\\theta_{1}{\\left(t \\right)} + \\theta_{2}{\\left(t \\right)} \\right)}\\\\0\\\\1\\end{matrix}\\right]$"
      ],
      "text/plain": [
       "Matrix([\n",
       "[L_1*sin(theta_1(t)) + L_2*sin(theta_1(t) + theta_2(t))],\n",
       "[L_1*cos(theta_1(t)) + L_2*cos(theta_1(t) + theta_2(t))],\n",
       "[                                                     0],\n",
       "[                                                     1]])"
      ]
     },
     "execution_count": 7,
     "metadata": {},
     "output_type": "execute_result"
    }
   ],
   "source": [
    "link2 = tf_h(theta2(t)+theta1(t), [link1[0],link1[1],link1[2]])*P2.T\n",
    "link2"
   ]
  },
  {
   "cell_type": "code",
   "execution_count": 8,
   "metadata": {},
   "outputs": [
    {
     "data": {
      "text/latex": [
       "$\\displaystyle \\left[\\begin{matrix}L_{1} \\cos{\\left(\\theta_{1}{\\left(t \\right)} \\right)} \\frac{d}{d t} \\theta_{1}{\\left(t \\right)}\\\\- L_{1} \\sin{\\left(\\theta_{1}{\\left(t \\right)} \\right)} \\frac{d}{d t} \\theta_{1}{\\left(t \\right)}\\\\0\\end{matrix}\\right]$"
      ],
      "text/plain": [
       "Matrix([\n",
       "[ L_1*cos(theta_1(t))*Derivative(theta_1(t), t)],\n",
       "[-L_1*sin(theta_1(t))*Derivative(theta_1(t), t)],\n",
       "[                                             0]])"
      ]
     },
     "execution_count": 8,
     "metadata": {},
     "output_type": "execute_result"
    }
   ],
   "source": [
    "dlk1 = diff(link1[:3,:], t)\n",
    "dlk1"
   ]
  },
  {
   "cell_type": "code",
   "execution_count": 9,
   "metadata": {},
   "outputs": [
    {
     "data": {
      "text/latex": [
       "$\\displaystyle \\left[\\begin{matrix}L_{1} \\cos{\\left(\\theta_{1}{\\left(t \\right)} \\right)} \\frac{d}{d t} \\theta_{1}{\\left(t \\right)} + L_{2} \\left(\\frac{d}{d t} \\theta_{1}{\\left(t \\right)} + \\frac{d}{d t} \\theta_{2}{\\left(t \\right)}\\right) \\cos{\\left(\\theta_{1}{\\left(t \\right)} + \\theta_{2}{\\left(t \\right)} \\right)}\\\\- L_{1} \\sin{\\left(\\theta_{1}{\\left(t \\right)} \\right)} \\frac{d}{d t} \\theta_{1}{\\left(t \\right)} - L_{2} \\left(\\frac{d}{d t} \\theta_{1}{\\left(t \\right)} + \\frac{d}{d t} \\theta_{2}{\\left(t \\right)}\\right) \\sin{\\left(\\theta_{1}{\\left(t \\right)} + \\theta_{2}{\\left(t \\right)} \\right)}\\\\0\\end{matrix}\\right]$"
      ],
      "text/plain": [
       "Matrix([\n",
       "[ L_1*cos(theta_1(t))*Derivative(theta_1(t), t) + L_2*(Derivative(theta_1(t), t) + Derivative(theta_2(t), t))*cos(theta_1(t) + theta_2(t))],\n",
       "[-L_1*sin(theta_1(t))*Derivative(theta_1(t), t) - L_2*(Derivative(theta_1(t), t) + Derivative(theta_2(t), t))*sin(theta_1(t) + theta_2(t))],\n",
       "[                                                                                                                                        0]])"
      ]
     },
     "execution_count": 9,
     "metadata": {},
     "output_type": "execute_result"
    }
   ],
   "source": [
    "dlk2 = diff(link2[:3,:], t)\n",
    "dlk2"
   ]
  },
  {
   "cell_type": "markdown",
   "metadata": {},
   "source": [
    "## Energia Cinética\n",
    "\n",
    "$\n",
    "\\mathcal{T} = \\frac{1}{2} \\sum\\limits_{k=1}^{N}{\\mathbf{\\dot{q}}_k}^T  \\mathbf{M}_k {\\mathbf{\\dot{q}}_k}+ \\frac{1}{2} \\sum\\limits_{k=1}^{N}\\mathbf{\\omega}_k^T \\mathbf{J}_k \\mathbf{\\omega}_k\n",
    "$"
   ]
  },
  {
   "cell_type": "code",
   "execution_count": 10,
   "metadata": {},
   "outputs": [
    {
     "data": {
      "text/latex": [
       "$\\displaystyle 0.5 L_{1}^{2} m_{1} \\left(\\frac{d}{d t} \\theta_{1}{\\left(t \\right)}\\right)^{2}$"
      ],
      "text/plain": [
       "0.5*L_1**2*m1*Derivative(theta_1(t), t)**2"
      ]
     },
     "execution_count": 10,
     "metadata": {},
     "output_type": "execute_result"
    }
   ],
   "source": [
    "T1 = (1/2*m1*dlk1.T*dlk1)[0]\n",
    "T1 = simplify(T1)\n",
    "T1"
   ]
  },
  {
   "cell_type": "code",
   "execution_count": 11,
   "metadata": {},
   "outputs": [
    {
     "data": {
      "text/latex": [
       "$\\displaystyle 0.5 m_{2} \\left(L_{1}^{2} \\left(\\frac{d}{d t} \\theta_{1}{\\left(t \\right)}\\right)^{2} + 2 L_{1} L_{2} \\cos{\\left(\\theta_{2}{\\left(t \\right)} \\right)} \\left(\\frac{d}{d t} \\theta_{1}{\\left(t \\right)}\\right)^{2} + 2 L_{1} L_{2} \\cos{\\left(\\theta_{2}{\\left(t \\right)} \\right)} \\frac{d}{d t} \\theta_{1}{\\left(t \\right)} \\frac{d}{d t} \\theta_{2}{\\left(t \\right)} + L_{2}^{2} \\left(\\frac{d}{d t} \\theta_{1}{\\left(t \\right)}\\right)^{2} + 2 L_{2}^{2} \\frac{d}{d t} \\theta_{1}{\\left(t \\right)} \\frac{d}{d t} \\theta_{2}{\\left(t \\right)} + L_{2}^{2} \\left(\\frac{d}{d t} \\theta_{2}{\\left(t \\right)}\\right)^{2}\\right)$"
      ],
      "text/plain": [
       "0.5*m2*(L_1**2*Derivative(theta_1(t), t)**2 + 2*L_1*L_2*cos(theta_2(t))*Derivative(theta_1(t), t)**2 + 2*L_1*L_2*cos(theta_2(t))*Derivative(theta_1(t), t)*Derivative(theta_2(t), t) + L_2**2*Derivative(theta_1(t), t)**2 + 2*L_2**2*Derivative(theta_1(t), t)*Derivative(theta_2(t), t) + L_2**2*Derivative(theta_2(t), t)**2)"
      ]
     },
     "execution_count": 11,
     "metadata": {},
     "output_type": "execute_result"
    }
   ],
   "source": [
    "T2 = (1/2*m2*dlk2.T*dlk2)[0]\n",
    "T2 = simplify(T2)\n",
    "T2"
   ]
  },
  {
   "cell_type": "markdown",
   "metadata": {},
   "source": [
    "## Energia Potencial\n",
    "\n",
    "$\n",
    "\\mathcal{V} = \\sum\\limits_{k=1}^{N}\\mathbf{M}g\\Delta \\underbrace{y_k}_{\\text{altura}}\n",
    "$"
   ]
  },
  {
   "cell_type": "code",
   "execution_count": 12,
   "metadata": {},
   "outputs": [
    {
     "data": {
      "text/latex": [
       "$\\displaystyle L_{1} g \\left(m_{1} + m_{2}\\right) \\cos{\\left(\\theta_{1}{\\left(t \\right)} \\right)}$"
      ],
      "text/plain": [
       "L_1*g*(m1 + m2)*cos(theta_1(t))"
      ]
     },
     "execution_count": 12,
     "metadata": {},
     "output_type": "execute_result"
    }
   ],
   "source": [
    "V1 = (m1+m2)*g*link1[1]\n",
    "V1"
   ]
  },
  {
   "cell_type": "code",
   "execution_count": 13,
   "metadata": {},
   "outputs": [
    {
     "data": {
      "text/latex": [
       "$\\displaystyle g m_{2} \\left(L_{1} \\cos{\\left(\\theta_{1}{\\left(t \\right)} \\right)} + L_{2} \\cos{\\left(\\theta_{1}{\\left(t \\right)} + \\theta_{2}{\\left(t \\right)} \\right)}\\right)$"
      ],
      "text/plain": [
       "g*m2*(L_1*cos(theta_1(t)) + L_2*cos(theta_1(t) + theta_2(t)))"
      ]
     },
     "execution_count": 13,
     "metadata": {},
     "output_type": "execute_result"
    }
   ],
   "source": [
    "V2 =m2*g*link2[1]\n",
    "V2"
   ]
  },
  {
   "cell_type": "code",
   "execution_count": 14,
   "metadata": {},
   "outputs": [
    {
     "data": {
      "text/latex": [
       "$\\displaystyle 0.5 L_{1}^{2} m_{1} \\left(\\frac{d}{d t} \\theta_{1}{\\left(t \\right)}\\right)^{2} - L_{1} g \\left(m_{1} + m_{2}\\right) \\cos{\\left(\\theta_{1}{\\left(t \\right)} \\right)} - g m_{2} \\left(L_{1} \\cos{\\left(\\theta_{1}{\\left(t \\right)} \\right)} + L_{2} \\cos{\\left(\\theta_{1}{\\left(t \\right)} + \\theta_{2}{\\left(t \\right)} \\right)}\\right) + 0.5 m_{2} \\left(L_{1}^{2} \\left(\\frac{d}{d t} \\theta_{1}{\\left(t \\right)}\\right)^{2} + 2 L_{1} L_{2} \\cos{\\left(\\theta_{2}{\\left(t \\right)} \\right)} \\left(\\frac{d}{d t} \\theta_{1}{\\left(t \\right)}\\right)^{2} + 2 L_{1} L_{2} \\cos{\\left(\\theta_{2}{\\left(t \\right)} \\right)} \\frac{d}{d t} \\theta_{1}{\\left(t \\right)} \\frac{d}{d t} \\theta_{2}{\\left(t \\right)} + L_{2}^{2} \\left(\\frac{d}{d t} \\theta_{1}{\\left(t \\right)}\\right)^{2} + 2 L_{2}^{2} \\frac{d}{d t} \\theta_{1}{\\left(t \\right)} \\frac{d}{d t} \\theta_{2}{\\left(t \\right)} + L_{2}^{2} \\left(\\frac{d}{d t} \\theta_{2}{\\left(t \\right)}\\right)^{2}\\right)$"
      ],
      "text/plain": [
       "0.5*L_1**2*m1*Derivative(theta_1(t), t)**2 - L_1*g*(m1 + m2)*cos(theta_1(t)) - g*m2*(L_1*cos(theta_1(t)) + L_2*cos(theta_1(t) + theta_2(t))) + 0.5*m2*(L_1**2*Derivative(theta_1(t), t)**2 + 2*L_1*L_2*cos(theta_2(t))*Derivative(theta_1(t), t)**2 + 2*L_1*L_2*cos(theta_2(t))*Derivative(theta_1(t), t)*Derivative(theta_2(t), t) + L_2**2*Derivative(theta_1(t), t)**2 + 2*L_2**2*Derivative(theta_1(t), t)*Derivative(theta_2(t), t) + L_2**2*Derivative(theta_2(t), t)**2)"
      ]
     },
     "execution_count": 14,
     "metadata": {},
     "output_type": "execute_result"
    }
   ],
   "source": [
    "L = (T1+T2) - (V1+V2)\n",
    "L"
   ]
  },
  {
   "cell_type": "code",
   "execution_count": 15,
   "metadata": {},
   "outputs": [],
   "source": [
    "dtheta1 = diff(theta1(t), t)\n",
    "ddtheta1 = diff(diff(theta1(t), t),t)\n",
    "dtheta2 = diff(theta2(t), t)\n",
    "ddtheta2 = diff(diff(theta2(t), t),t)\n"
   ]
  },
  {
   "cell_type": "markdown",
   "metadata": {},
   "source": [
    "## Aplicando a equação de Lagrange\n",
    "\n",
    "$\n",
    "\\newcommand{\\df}[1]{\\,\\mathrm{d}#1}\n",
    "\\newcommand{\\parcial}[3]{\\dfrac{\\partial^{#1}#2}{\\partial #3^{#1}}}\n",
    "\\frac{d}{\\df{t}}\\left( \\parcial{}{\\mathcal{L}}{\\dot{q}_k}\\right)\n",
    "-\\parcial{}{\\mathcal{L}}{q_k}\n",
    "= f_k, \\quad k = 1,2,...,n\n",
    "$"
   ]
  },
  {
   "cell_type": "markdown",
   "metadata": {},
   "source": [
    "### Para $k=1$"
   ]
  },
  {
   "cell_type": "code",
   "execution_count": 16,
   "metadata": {},
   "outputs": [],
   "source": [
    "# Completar com a equacao acima\n",
    "LAGRNGIAN_q1 = expand(diff(diff(L,dtheta1),t) - diff(L,theta1(t)))\n",
    "LAGRNGIAN_q1c = collect(LAGRNGIAN_q1, [ddtheta1, ddtheta2])"
   ]
  },
  {
   "cell_type": "code",
   "execution_count": 17,
   "metadata": {},
   "outputs": [],
   "source": [
    "# dica collect(LAGRANGIAN_q1, [ddtheta1, ddtheta2])"
   ]
  },
  {
   "cell_type": "code",
   "execution_count": 18,
   "metadata": {},
   "outputs": [
    {
     "data": {
      "text/latex": [
       "$\\displaystyle L_{1}^{2} \\left(1.0 m_{1} + 1.0 m_{2}\\right) + 2.0 L_{1} L_{2} m_{2} \\cos{\\left(\\theta_{2}{\\left(t \\right)} \\right)} + 1.0 L_{2}^{2} m_{2}$"
      ],
      "text/plain": [
       "L_1**2*(1.0*m1 + 1.0*m2) + 2.0*L_1*L_2*m2*cos(theta_2(t)) + 1.0*L_2**2*m2"
      ]
     },
     "execution_count": 18,
     "metadata": {},
     "output_type": "execute_result"
    }
   ],
   "source": [
    "collect(LAGRNGIAN_q1.coeff(ddtheta1),[L1,L2])\n",
    "#M11"
   ]
  },
  {
   "cell_type": "code",
   "execution_count": 19,
   "metadata": {},
   "outputs": [
    {
     "data": {
      "text/latex": [
       "$\\displaystyle 1.0 L_{1} L_{2} m_{2} \\cos{\\left(\\theta_{2}{\\left(t \\right)} \\right)} + 1.0 L_{2}^{2} m_{2}$"
      ],
      "text/plain": [
       "1.0*L_1*L_2*m2*cos(theta_2(t)) + 1.0*L_2**2*m2"
      ]
     },
     "execution_count": 19,
     "metadata": {},
     "output_type": "execute_result"
    }
   ],
   "source": [
    "collect(LAGRNGIAN_q1.coeff(ddtheta2),[L1,L2])\n",
    "#M12"
   ]
  },
  {
   "cell_type": "markdown",
   "metadata": {},
   "source": [
    "# Montando as Matrizes"
   ]
  },
  {
   "cell_type": "code",
   "execution_count": 20,
   "metadata": {},
   "outputs": [
    {
     "data": {
      "text/latex": [
       "$\\displaystyle L_{1}^{2} \\left(m_{1} + m_{2}\\right) + 2 L_{1} L_{2} m_{2} \\cos{\\left(\\theta_{2}{\\left(t \\right)} \\right)} + L_{2}^{2} m_{2}$"
      ],
      "text/plain": [
       "L_1**2*(m1 + m2) + 2*L_1*L_2*m2*cos(theta_2(t)) + L_2**2*m2"
      ]
     },
     "execution_count": 20,
     "metadata": {},
     "output_type": "execute_result"
    }
   ],
   "source": [
    "M11 = (m1+m2)*L1**2 + L2**2 * m2 +2*L1*L2*m2*cos(theta2(t))\n",
    "M11 "
   ]
  },
  {
   "cell_type": "code",
   "execution_count": 21,
   "metadata": {},
   "outputs": [
    {
     "data": {
      "text/latex": [
       "$\\displaystyle L_{1} L_{2} m_{2} \\cos{\\left(\\theta_{2}{\\left(t \\right)} \\right)} + L_{2}^{2} m_{2}$"
      ],
      "text/plain": [
       "L_1*L_2*m2*cos(theta_2(t)) + L_2**2*m2"
      ]
     },
     "execution_count": 21,
     "metadata": {},
     "output_type": "execute_result"
    }
   ],
   "source": [
    "M12 = L1*L2*m2*cos(theta2(t)) + L2**2*m2\n",
    "M12"
   ]
  },
  {
   "cell_type": "markdown",
   "metadata": {},
   "source": [
    "### Para $k=2$"
   ]
  },
  {
   "cell_type": "code",
   "execution_count": 22,
   "metadata": {},
   "outputs": [
    {
     "data": {
      "text/latex": [
       "$\\displaystyle 1.0 L_{1} L_{2} m_{2} \\sin{\\left(\\theta_{2}{\\left(t \\right)} \\right)} \\left(\\frac{d}{d t} \\theta_{1}{\\left(t \\right)}\\right)^{2} + 1.0 L_{2}^{2} m_{2} \\frac{d^{2}}{d t^{2}} \\theta_{2}{\\left(t \\right)} - L_{2} g m_{2} \\sin{\\left(\\theta_{1}{\\left(t \\right)} + \\theta_{2}{\\left(t \\right)} \\right)} + \\left(1.0 L_{1} L_{2} m_{2} \\cos{\\left(\\theta_{2}{\\left(t \\right)} \\right)} + 1.0 L_{2}^{2} m_{2}\\right) \\frac{d^{2}}{d t^{2}} \\theta_{1}{\\left(t \\right)}$"
      ],
      "text/plain": [
       "1.0*L_1*L_2*m2*sin(theta_2(t))*Derivative(theta_1(t), t)**2 + 1.0*L_2**2*m2*Derivative(theta_2(t), (t, 2)) - L_2*g*m2*sin(theta_1(t) + theta_2(t)) + (1.0*L_1*L_2*m2*cos(theta_2(t)) + 1.0*L_2**2*m2)*Derivative(theta_1(t), (t, 2))"
      ]
     },
     "execution_count": 22,
     "metadata": {},
     "output_type": "execute_result"
    }
   ],
   "source": [
    "LAGRNGIAN_q2 = expand(diff(diff(L,dtheta2),t) - diff(L,theta2(t)))\n",
    "LAGRNGIAN_q2c = collect(LAGRNGIAN_q2, [ddtheta1, ddtheta2])\n",
    "LAGRNGIAN_q2c"
   ]
  },
  {
   "cell_type": "code",
   "execution_count": 23,
   "metadata": {},
   "outputs": [],
   "source": [
    "# dica collect(LAGRANGIAN_q2, [ddtheta1, ddtheta2])"
   ]
  },
  {
   "cell_type": "code",
   "execution_count": 24,
   "metadata": {},
   "outputs": [
    {
     "data": {
      "text/latex": [
       "$\\displaystyle 1.0 L_{1} L_{2} m_{2} \\cos{\\left(\\theta_{2}{\\left(t \\right)} \\right)} + 1.0 L_{2}^{2} m_{2}$"
      ],
      "text/plain": [
       "1.0*L_1*L_2*m2*cos(theta_2(t)) + 1.0*L_2**2*m2"
      ]
     },
     "execution_count": 24,
     "metadata": {},
     "output_type": "execute_result"
    }
   ],
   "source": [
    "collect(LAGRNGIAN_q2.coeff(ddtheta1),[L1,L2])\n",
    "#M21"
   ]
  },
  {
   "cell_type": "code",
   "execution_count": 25,
   "metadata": {},
   "outputs": [
    {
     "data": {
      "text/latex": [
       "$\\displaystyle 1.0 L_{2}^{2} m_{2}$"
      ],
      "text/plain": [
       "1.0*L_2**2*m2"
      ]
     },
     "execution_count": 25,
     "metadata": {},
     "output_type": "execute_result"
    }
   ],
   "source": [
    "collect(LAGRNGIAN_q2.coeff(ddtheta2),[L1,L2])\n",
    "#M22"
   ]
  },
  {
   "cell_type": "code",
   "execution_count": 26,
   "metadata": {},
   "outputs": [
    {
     "data": {
      "text/latex": [
       "$\\displaystyle L_{1} L_{2} m_{2} \\cos{\\left(\\theta_{2}{\\left(t \\right)} \\right)} + L_{2}^{2} m_{2}$"
      ],
      "text/plain": [
       "L_1*L_2*m2*cos(theta_2(t)) + L_2**2*m2"
      ]
     },
     "execution_count": 26,
     "metadata": {},
     "output_type": "execute_result"
    }
   ],
   "source": [
    "M21 = L2*L1*m2*cos(theta2(t)) + L2**2*m2\n",
    "M21"
   ]
  },
  {
   "cell_type": "code",
   "execution_count": 27,
   "metadata": {},
   "outputs": [
    {
     "data": {
      "text/latex": [
       "$\\displaystyle L_{2}^{2} m_{2}$"
      ],
      "text/plain": [
       "L_2**2*m2"
      ]
     },
     "execution_count": 27,
     "metadata": {},
     "output_type": "execute_result"
    }
   ],
   "source": [
    "M22 = L2**2*m2\n",
    "M22"
   ]
  },
  {
   "cell_type": "code",
   "execution_count": 28,
   "metadata": {},
   "outputs": [
    {
     "data": {
      "text/latex": [
       "$\\displaystyle \\left[\\begin{matrix}L_{1}^{2} \\left(m_{1} + m_{2}\\right) + 2 L_{1} L_{2} m_{2} \\cos{\\left(\\theta_{2}{\\left(t \\right)} \\right)} + L_{2}^{2} m_{2} & L_{1} L_{2} m_{2} \\cos{\\left(\\theta_{2}{\\left(t \\right)} \\right)} + L_{2}^{2} m_{2}\\\\L_{1} L_{2} m_{2} \\cos{\\left(\\theta_{2}{\\left(t \\right)} \\right)} + L_{2}^{2} m_{2} & L_{2}^{2} m_{2}\\end{matrix}\\right]$"
      ],
      "text/plain": [
       "Matrix([\n",
       "[L_1**2*(m1 + m2) + 2*L_1*L_2*m2*cos(theta_2(t)) + L_2**2*m2, L_1*L_2*m2*cos(theta_2(t)) + L_2**2*m2],\n",
       "[                     L_1*L_2*m2*cos(theta_2(t)) + L_2**2*m2,                              L_2**2*m2]])"
      ]
     },
     "execution_count": 28,
     "metadata": {},
     "output_type": "execute_result"
    }
   ],
   "source": [
    "M = Matrix([[M11,M12],[M21, M22]])\n",
    "M"
   ]
  },
  {
   "cell_type": "code",
   "execution_count": null,
   "metadata": {},
   "outputs": [],
   "source": []
  },
  {
   "cell_type": "markdown",
   "metadata": {},
   "source": [
    "### Encontrar as outras matrizes!"
   ]
  },
  {
   "cell_type": "code",
   "execution_count": 55,
   "metadata": {},
   "outputs": [
    {
     "data": {
      "text/latex": [
       "$\\displaystyle - 2.0 L_{1} L_{2} m_{2} \\sin{\\left(\\theta_{2}{\\left(t \\right)} \\right)} \\frac{d}{d t} \\theta_{1}{\\left(t \\right)} \\frac{d}{d t} \\theta_{2}{\\left(t \\right)} - 1.0 L_{1} L_{2} m_{2} \\sin{\\left(\\theta_{2}{\\left(t \\right)} \\right)} \\left(\\frac{d}{d t} \\theta_{2}{\\left(t \\right)}\\right)^{2}$"
      ],
      "text/plain": [
       "-2.0*L_1*L_2*m2*sin(theta_2(t))*Derivative(theta_1(t), t)*Derivative(theta_2(t), t) - 1.0*L_1*L_2*m2*sin(theta_2(t))*Derivative(theta_2(t), t)**2"
      ]
     },
     "execution_count": 55,
     "metadata": {},
     "output_type": "execute_result"
    }
   ],
   "source": [
    "# Cq ?\n",
    "C11 = LAGRNGIAN_q1.coeff(dtheta1)*dtheta1 + LAGRNGIAN_q1.coeff(dtheta2**2)*dtheta2**2\n",
    "C11\n",
    "\n"
   ]
  },
  {
   "cell_type": "code",
   "execution_count": 58,
   "metadata": {},
   "outputs": [
    {
     "data": {
      "text/latex": [
       "$\\displaystyle 1.0 L_{1} L_{2} m_{2} \\sin{\\left(\\theta_{2}{\\left(t \\right)} \\right)}$"
      ],
      "text/plain": [
       "1.0*L_1*L_2*m2*sin(theta_2(t))"
      ]
     },
     "execution_count": 58,
     "metadata": {},
     "output_type": "execute_result"
    }
   ],
   "source": [
    "C21 = LAGRNGIAN_q2.coeff(dtheta1**2)\n",
    "C21"
   ]
  },
  {
   "cell_type": "code",
   "execution_count": 68,
   "metadata": {},
   "outputs": [
    {
     "data": {
      "text/latex": [
       "$\\displaystyle \\left[\\begin{matrix}- 2.0 L_{1} L_{2} m_{2} \\sin{\\left(\\theta_{2}{\\left(t \\right)} \\right)} \\frac{d}{d t} \\theta_{1}{\\left(t \\right)} \\frac{d}{d t} \\theta_{2}{\\left(t \\right)} - 1.0 L_{1} L_{2} m_{2} \\sin{\\left(\\theta_{2}{\\left(t \\right)} \\right)} \\left(\\frac{d}{d t} \\theta_{2}{\\left(t \\right)}\\right)^{2}\\\\1.0 L_{1} L_{2} m_{2} \\sin{\\left(\\theta_{2}{\\left(t \\right)} \\right)}\\end{matrix}\\right]$"
      ],
      "text/plain": [
       "Matrix([\n",
       "[-2.0*L_1*L_2*m2*sin(theta_2(t))*Derivative(theta_1(t), t)*Derivative(theta_2(t), t) - 1.0*L_1*L_2*m2*sin(theta_2(t))*Derivative(theta_2(t), t)**2],\n",
       "[                                                                                                                   1.0*L_1*L_2*m2*sin(theta_2(t))]])"
      ]
     },
     "execution_count": 68,
     "metadata": {},
     "output_type": "execute_result"
    }
   ],
   "source": [
    "Cq = Matrix([[C11],[C21]])\n",
    "Cq"
   ]
  },
  {
   "cell_type": "code",
   "execution_count": 62,
   "metadata": {},
   "outputs": [
    {
     "data": {
      "text/latex": [
       "$\\displaystyle g \\left(- L_{1} m_{1} \\sin{\\left(\\theta_{1}{\\left(t \\right)} \\right)} - 2 L_{1} m_{2} \\sin{\\left(\\theta_{1}{\\left(t \\right)} \\right)} - L_{2} m_{2} \\sin{\\left(\\theta_{1}{\\left(t \\right)} + \\theta_{2}{\\left(t \\right)} \\right)}\\right)$"
      ],
      "text/plain": [
       "g*(-L_1*m1*sin(theta_1(t)) - 2*L_1*m2*sin(theta_1(t)) - L_2*m2*sin(theta_1(t) + theta_2(t)))"
      ]
     },
     "execution_count": 62,
     "metadata": {},
     "output_type": "execute_result"
    }
   ],
   "source": [
    "# Gq=?\n",
    "G11 = LAGRNGIAN_q1.coeff(g)*g\n",
    "G11\n"
   ]
  },
  {
   "cell_type": "code",
   "execution_count": 64,
   "metadata": {},
   "outputs": [
    {
     "data": {
      "text/latex": [
       "$\\displaystyle - L_{2} g m_{2} \\sin{\\left(\\theta_{1}{\\left(t \\right)} + \\theta_{2}{\\left(t \\right)} \\right)}$"
      ],
      "text/plain": [
       "-L_2*g*m2*sin(theta_1(t) + theta_2(t))"
      ]
     },
     "execution_count": 64,
     "metadata": {},
     "output_type": "execute_result"
    }
   ],
   "source": [
    "G21 = LAGRNGIAN_q2.coeff(g)*g\n",
    "G21"
   ]
  },
  {
   "cell_type": "code",
   "execution_count": 71,
   "metadata": {},
   "outputs": [
    {
     "data": {
      "text/latex": [
       "$\\displaystyle \\left[\\begin{matrix}g \\left(- L_{1} m_{1} \\sin{\\left(\\theta_{1}{\\left(t \\right)} \\right)} - 2 L_{1} m_{2} \\sin{\\left(\\theta_{1}{\\left(t \\right)} \\right)} - L_{2} m_{2} \\sin{\\left(\\theta_{1}{\\left(t \\right)} + \\theta_{2}{\\left(t \\right)} \\right)}\\right)\\\\- L_{2} g m_{2} \\sin{\\left(\\theta_{1}{\\left(t \\right)} + \\theta_{2}{\\left(t \\right)} \\right)}\\end{matrix}\\right]$"
      ],
      "text/plain": [
       "Matrix([\n",
       "[g*(-L_1*m1*sin(theta_1(t)) - 2*L_1*m2*sin(theta_1(t)) - L_2*m2*sin(theta_1(t) + theta_2(t)))],\n",
       "[                                                      -L_2*g*m2*sin(theta_1(t) + theta_2(t))]])"
      ]
     },
     "execution_count": 71,
     "metadata": {},
     "output_type": "execute_result"
    }
   ],
   "source": [
    "Gq = Matrix([[G11],[G21]])\n",
    "Gq"
   ]
  },
  {
   "cell_type": "markdown",
   "metadata": {},
   "source": [
    "# Simulacão"
   ]
  },
  {
   "cell_type": "code",
   "execution_count": 72,
   "metadata": {},
   "outputs": [],
   "source": [
    "import numpy as np\n",
    "from numpy import sin, cos\n",
    "from numpy.linalg import inv\n",
    "import matplotlib.pylab as plt\n",
    "import matplotlib.animation as animation\n",
    "from IPython.display import HTML"
   ]
  },
  {
   "cell_type": "code",
   "execution_count": 74,
   "metadata": {},
   "outputs": [],
   "source": [
    "def ode45_step(f, x, t, dt, *args):\n",
    "    \"\"\"\n",
    "    One step of 4th Order Runge-Kutta method\n",
    "    \"\"\"\n",
    "    k = dt\n",
    "    k1 = k * f(t, x, *args)\n",
    "    k2 = k * f(t + 0.5*k, x + 0.5*k1, *args)\n",
    "    k3 = k * f(t + 0.5*k, x + 0.5*k2, *args)\n",
    "    k4 = k * f(t + dt, x + k3, *args)\n",
    "    return x + 1/6. * (k1 + 2*k2 + 2*k3 + k4)\n",
    "\n",
    "def ode45(f, t, x0, *args):\n",
    "    \"\"\"\n",
    "    4th Order Runge-Kutta method\n",
    "    \"\"\"\n",
    "    n = len(t)\n",
    "    x = np.zeros((n, len(x0)))\n",
    "    x[0] = x0\n",
    "    for i in range(n-1):\n",
    "        dt = t[i+1] - t[i] \n",
    "        x[i+1] = ode45_step(f, x[i], t[i], dt, *args)\n",
    "    return x"
   ]
  },
  {
   "cell_type": "code",
   "execution_count": null,
   "metadata": {},
   "outputs": [],
   "source": []
  }
 ],
 "metadata": {
  "colab": {
   "collapsed_sections": [],
   "name": "exercicio01.ipynb",
   "provenance": []
  },
  "kernelspec": {
   "display_name": "Python 3",
   "language": "python",
   "name": "python3"
  },
  "language_info": {
   "codemirror_mode": {
    "name": "ipython",
    "version": 3
   },
   "file_extension": ".py",
   "mimetype": "text/x-python",
   "name": "python",
   "nbconvert_exporter": "python",
   "pygments_lexer": "ipython3",
   "version": "3.7.3"
  }
 },
 "nbformat": 4,
 "nbformat_minor": 1
}
