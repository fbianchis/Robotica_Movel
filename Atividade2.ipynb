{
  "nbformat": 4,
  "nbformat_minor": 0,
  "metadata": {
    "colab": {
      "name": "python_example_001.ipynb",
      "provenance": [],
      "collapsed_sections": [],
      "include_colab_link": true
    },
    "kernelspec": {
      "name": "python3",
      "display_name": "Python 3"
    }
  },
  "cells": [
    {
      "cell_type": "markdown",
      "metadata": {
        "id": "view-in-github",
        "colab_type": "text"
      },
      "source": [
        "<a href=\"https://colab.research.google.com/github/fbianchis/Robotica_Movel/blob/master/Atividade2.ipynb\" target=\"_parent\"><img src=\"https://colab.research.google.com/assets/colab-badge.svg\" alt=\"Open In Colab\"/></a>"
      ]
    },
    {
      "cell_type": "code",
      "metadata": {
        "id": "p-kztHZ2u9RV",
        "colab_type": "code",
        "colab": {}
      },
      "source": [
        "import matplotlib.pyplot as plt\n",
        "from scipy.integrate import odeint\n",
        "import numpy as np"
      ],
      "execution_count": null,
      "outputs": []
    },
    {
      "cell_type": "markdown",
      "metadata": {
        "id": "2E4WduZUleU0",
        "colab_type": "text"
      },
      "source": [
        "## Operação de Rotação\n",
        "\n",
        "${}^B\\mathbf{P} = \\mathbf{R}(\\theta) {}^A\\mathbf{P} = \n",
        "\\begin{bmatrix}\n",
        "\\cos(\\theta) & -\\sin(\\theta) & 0 \\\\\n",
        "\\sin(\\theta) & \\cos(\\theta) & 0 \\\\\n",
        "0 & 0 & 1 \\\\ \n",
        "\\end{bmatrix}.\n",
        "\\begin{bmatrix}\n",
        "{}^Ap_x\\\\\n",
        "{}^Ap_y\\\\\n",
        "{}^Ap_z\\\\\n",
        "\\end{bmatrix}$\n"
      ]
    },
    {
      "cell_type": "code",
      "metadata": {
        "id": "cIdw9jNXlcg5",
        "colab_type": "code",
        "colab": {}
      },
      "source": [
        "theta = 30\n",
        "angle = 'deg'"
      ],
      "execution_count": null,
      "outputs": []
    },
    {
      "cell_type": "code",
      "metadata": {
        "id": "ruuTUJAGl_75",
        "colab_type": "code",
        "colab": {}
      },
      "source": [
        "def rotation_matrix(theta, angle='rad'):\n",
        "    if angle == 'deg':\n",
        "        theta = np.deg2rad(theta)\n",
        "    \n",
        "    matrix = np.array([[np.cos(theta),-np.sin(theta),0],\n",
        "                       [np.sin(theta),np.cos(theta),0],\n",
        "                       [0,0,1]])\n",
        "    return np.round(matrix, 2)"
      ],
      "execution_count": null,
      "outputs": []
    },
    {
      "cell_type": "code",
      "metadata": {
        "id": "-FHJYZpjv68e",
        "colab_type": "code",
        "colab": {
          "base_uri": "https://localhost:8080/",
          "height": 68
        },
        "outputId": "6c1457d1-d9ef-4840-fb75-d7b862cecc3b"
      },
      "source": [
        "rotation_matrix(90, angle='deg')"
      ],
      "execution_count": null,
      "outputs": [
        {
          "output_type": "execute_result",
          "data": {
            "text/plain": [
              "array([[ 0., -1.,  0.],\n",
              "       [ 1.,  0.,  0.],\n",
              "       [ 0.,  0.,  1.]])"
            ]
          },
          "metadata": {
            "tags": []
          },
          "execution_count": 9
        }
      ]
    },
    {
      "cell_type": "code",
      "metadata": {
        "id": "rijkzgyKv64V",
        "colab_type": "code",
        "colab": {}
      },
      "source": [
        "P_a = np.array([[1],\n",
        "                [0],\n",
        "                [0]])"
      ],
      "execution_count": null,
      "outputs": []
    },
    {
      "cell_type": "code",
      "metadata": {
        "id": "ip5WGk0av6vR",
        "colab_type": "code",
        "colab": {
          "base_uri": "https://localhost:8080/",
          "height": 68
        },
        "outputId": "40749e06-ced4-4431-ed75-2322988206f1"
      },
      "source": [
        "np.dot(rotation_matrix(90, angle='deg'), P_a)"
      ],
      "execution_count": null,
      "outputs": [
        {
          "output_type": "execute_result",
          "data": {
            "text/plain": [
              "array([[0.],\n",
              "       [1.],\n",
              "       [0.]])"
            ]
          },
          "metadata": {
            "tags": []
          },
          "execution_count": 12
        }
      ]
    },
    {
      "cell_type": "markdown",
      "metadata": {
        "id": "Yidje35amAWj",
        "colab_type": "text"
      },
      "source": [
        "## Transformação Homogenea\n",
        "\n",
        "${}^B\\mathbf{P} = \\mathcal{A}_0^1 {}^A\\mathbf{P} = \n",
        "\\begin{bmatrix}\n",
        "\\cos(\\theta) & -\\sin(\\theta) & 0 & q_x\\\\\n",
        "\\sin(\\theta) & \\cos(\\theta) & 0 & q_y\\\\\n",
        "0 & 0 & 1 & q_z\\\\ \n",
        "0 & 0 & 0 & 1\\\\\n",
        "\\end{bmatrix}.\n",
        "\\begin{bmatrix}\n",
        "{}^Ap_x\\\\\n",
        "{}^Ap_y\\\\\n",
        "{}^Ap_z\\\\\n",
        "1\n",
        "\\end{bmatrix}$"
      ]
    },
    {
      "cell_type": "code",
      "metadata": {
        "id": "cjOnrBQYldRO",
        "colab_type": "code",
        "colab": {}
      },
      "source": [
        "theta = 30\n",
        "angle = 'deg'\n",
        "Q_a = np.array([1.,0.,0.])\n",
        "P_a = np.array([[1],\n",
        "                [0],\n",
        "                [0],\n",
        "                [1]])"
      ],
      "execution_count": null,
      "outputs": []
    },
    {
      "cell_type": "code",
      "metadata": {
        "id": "OM4fIS0Mv9JW",
        "colab_type": "code",
        "colab": {}
      },
      "source": [
        "def th(theta, Q, angle = 'rad'):\n",
        "    if angle == 'deg':\n",
        "        theta = np.deg2rad(theta)\n",
        "    th_matrix = np.array([[np.cos(theta),   -np.sin(theta), 0.,      Q[0]],\n",
        "                          [np.sin(theta),   np.cos(theta),  0.,      Q[1]],\n",
        "                          [0.,        0.,                   1.,      Q[2]],\n",
        "                          [0.,        0.,                   0.,      1.]])\n",
        "    return np.round(th_matrix,2)"
      ],
      "execution_count": null,
      "outputs": []
    },
    {
      "cell_type": "code",
      "metadata": {
        "id": "VEvbGgAiv9Gp",
        "colab_type": "code",
        "colab": {}
      },
      "source": [
        "P_b= np.dot(th(45,Q_a, angle='deg'), P_a)"
      ],
      "execution_count": null,
      "outputs": []
    },
    {
      "cell_type": "code",
      "metadata": {
        "id": "iYUXQ3Ok2rgx",
        "colab_type": "code",
        "colab": {
          "base_uri": "https://localhost:8080/",
          "height": 85
        },
        "outputId": "f4047822-fa88-4e38-8cae-4eda7ff23e83"
      },
      "source": [
        "P_b"
      ],
      "execution_count": null,
      "outputs": [
        {
          "output_type": "execute_result",
          "data": {
            "text/plain": [
              "array([[1.71],\n",
              "       [0.71],\n",
              "       [0.  ],\n",
              "       [1.  ]])"
            ]
          },
          "metadata": {
            "tags": []
          },
          "execution_count": 16
        }
      ]
    },
    {
      "cell_type": "code",
      "metadata": {
        "id": "Unoc15P0ZNYL",
        "colab_type": "code",
        "colab": {}
      },
      "source": [
        ""
      ],
      "execution_count": null,
      "outputs": []
    },
    {
      "cell_type": "code",
      "metadata": {
        "id": "8lZ2rwXXZNnN",
        "colab_type": "code",
        "colab": {}
      },
      "source": [
        ""
      ],
      "execution_count": null,
      "outputs": []
    },
    {
      "cell_type": "code",
      "metadata": {
        "id": "eRgHJ71Qv88p",
        "colab_type": "code",
        "colab": {}
      },
      "source": [
        "import matplotlib.pyplot as plt\n",
        "from scipy.integrate import odeint\n",
        "import numpy as np"
      ],
      "execution_count": null,
      "outputs": []
    },
    {
      "cell_type": "markdown",
      "metadata": {
        "id": "ZejPDUjWTj2s",
        "colab_type": "text"
      },
      "source": [
        "# Soluções Numérica com Python\n",
        "\n"
      ]
    },
    {
      "cell_type": "markdown",
      "metadata": {
        "id": "fcQsnUhpv2YH",
        "colab_type": "text"
      },
      "source": [
        "# Capacitor Circuit\n",
        "\n",
        "![](https://www.electronics-tutorials.ws/wp-content/uploads/2013/08/rc1.gif)\n",
        "\n",
        "$$RC\\frac{dV_c(t)}{dt}+V_c(t)=V_s(t)$$\n",
        "\n",
        "$$\\frac{dV_c(t)}{dt}=\\frac{1}{RC}V_s(t)-\\frac{1}{RC}V_c(t)$$\n",
        "\n",
        "\n",
        "onde \n",
        "\n",
        "$$i_c(t) = C \\displaystyle\\frac{dv_c(t)}{dt}$$"
      ]
    },
    {
      "cell_type": "code",
      "metadata": {
        "id": "H68y_eHSxXr6",
        "colab_type": "code",
        "colab": {}
      },
      "source": [
        "def circuit(y, t):\n",
        "    # y  = Vc\n",
        "    # dy = dVc\n",
        "    # tau = RC\n",
        "\n",
        "    tau = 0.5\n",
        "    \n",
        "    if t > 1 and t < 4:\n",
        "        Vs = 1\n",
        "    else:\n",
        "        Vs = 0\n",
        "\n",
        "    dy = 1/tau*Vs - 1/tau*y\n",
        "    return dy"
      ],
      "execution_count": null,
      "outputs": []
    },
    {
      "cell_type": "code",
      "metadata": {
        "id": "QJ2D5cB4yETp",
        "colab_type": "code",
        "colab": {}
      },
      "source": [
        "t = \n",
        "y0 = "
      ],
      "execution_count": null,
      "outputs": []
    },
    {
      "cell_type": "code",
      "metadata": {
        "id": "JQrhtkc1f3c_",
        "colab_type": "code",
        "colab": {}
      },
      "source": [
        ""
      ],
      "execution_count": null,
      "outputs": []
    },
    {
      "cell_type": "markdown",
      "metadata": {
        "id": "XnuN2Puv2vZ9",
        "colab_type": "text"
      },
      "source": [
        "# Car\n",
        "\n",
        "\n",
        "![](http://ffden-2.phys.uaf.edu/211_fall2002.web.dir/Garrett_Thatcher/Free%20Body.gif)\n",
        "\n",
        "\n",
        "\n",
        "$$m\\dot{v}+bv+F=u$$\n",
        "em função de $x$:\n",
        "$$m\\ddot{x}+b\\dot{x}+F=u$$\n",
        "\n",
        "sendo $x$, posicionamento, $\\dot{x}$ velocidade e $\\ddot{x}$ aceleração.\n",
        "\n",
        "\n",
        "em função de espaço de estados, aqui é adicioando uma força gravitacional diante do ângulo de inclinação do carro ($\\theta$):\n",
        "$$\\frac{d}{dt}\\begin{bmatrix} x_0 \\\\ x_1 \\end{bmatrix} = \n",
        "\\begin{bmatrix} 1 & 0\\\\ -\\displaystyle\\frac{b}{m} & +\\displaystyle\\frac{1}{m} \\end{bmatrix}\n",
        "\\begin{bmatrix} x_1 \\\\ u \\end{bmatrix} +\n",
        "\\begin{bmatrix} 0 \\\\ sin(\\theta)g \\end{bmatrix}\n",
        "$$\n",
        "\n",
        "sendo $x_0$, posicionamento e $x_1$ velocidade e g a força gravitacional ($g=9.8Nm$).\n"
      ]
    },
    {
      "cell_type": "code",
      "metadata": {
        "id": "l98CFHFy27xQ",
        "colab_type": "code",
        "colab": {}
      },
      "source": [
        "def car(x,t):\n",
        "    # x0 = pos\n",
        "    # x1 = vel\n",
        "\n",
        "    m = 2000\n",
        "    b = 200\n",
        "    g = 9.8\n",
        "\n",
        "    if x[0] < 90:\n",
        "        u = 8500\n",
        "    else:\n",
        "        u=0\n",
        "\n",
        "    if x[0] >= 10 and x[0] < 60:\n",
        "        theta = np.deg2rad(-20)\n",
        "    elif x[0] >= 60 and x[0] < 90:\n",
        "        theta = np.deg2rad(-30)\n",
        "    else:\n",
        "        theta = 0\n",
        "\n",
        "    dx = np.zeros(2)\n",
        "\n",
        "    dx[0] = x[1]\n",
        "    dx[1] = -b/m*x[1] + 1/m*u + np.sin(theta)*g\n",
        "    \n",
        "    return dx"
      ],
      "execution_count": null,
      "outputs": []
    },
    {
      "cell_type": "code",
      "metadata": {
        "id": "GZNR-MV55ZTg",
        "colab_type": "code",
        "colab": {
          "base_uri": "https://localhost:8080/",
          "height": 297
        },
        "outputId": "1c54fdb2-aeee-4601-9356-95286150164a"
      },
      "source": [
        "x0 = [0,0]\n",
        "t = np.linspace(0,125, 1000)\n",
        "\n",
        "x = odeint(car, x0, t)\n",
        "plt.plot(t,x[:,0], t,x[:,1])\n",
        "plt.xlabel('tempo')\n",
        "plt.legend(['deslocamento', 'velocidade'])"
      ],
      "execution_count": null,
      "outputs": [
        {
          "output_type": "execute_result",
          "data": {
            "text/plain": [
              "<matplotlib.legend.Legend at 0x7f543b6fd860>"
            ]
          },
          "metadata": {
            "tags": []
          },
          "execution_count": 90
        },
        {
          "output_type": "display_data",
          "data": {
            "image/png": "[encoded data removed]",
            "text/plain": [
              "<Figure size 432x288 with 1 Axes>"
            ]
          },
          "metadata": {
            "tags": [],
            "needs_background": "light"
          }
        }
      ]
    },
    {
      "cell_type": "code",
      "metadata": {
        "id": "TdUPmfFW5Y_0",
        "colab_type": "code",
        "colab": {}
      },
      "source": [
        ""
      ],
      "execution_count": null,
      "outputs": []
    },
    {
      "cell_type": "code",
      "metadata": {
        "id": "W61oJ3kxRTh0",
        "colab_type": "code",
        "colab": {}
      },
      "source": [
        ""
      ],
      "execution_count": null,
      "outputs": []
    },
    {
      "cell_type": "code",
      "metadata": {
        "id": "18VayRrVRTpF",
        "colab_type": "code",
        "colab": {}
      },
      "source": [
        ""
      ],
      "execution_count": null,
      "outputs": []
    },
    {
      "cell_type": "code",
      "metadata": {
        "id": "x6AD8L9jRTmM",
        "colab_type": "code",
        "colab": {}
      },
      "source": [
        ""
      ],
      "execution_count": null,
      "outputs": []
    },
    {
      "cell_type": "code",
      "metadata": {
        "id": "q3Mr7unYoiin",
        "colab_type": "code",
        "colab": {}
      },
      "source": [
        ""
      ],
      "execution_count": null,
      "outputs": []
    },
    {
      "cell_type": "code",
      "metadata": {
        "id": "uhXEAPTooitQ",
        "colab_type": "code",
        "colab": {}
      },
      "source": [
        ""
      ],
      "execution_count": null,
      "outputs": []
    },
    {
      "cell_type": "code",
      "metadata": {
        "id": "XoM3D7cNojDi",
        "colab_type": "code",
        "colab": {}
      },
      "source": [
        "import numpy as np\n",
        "from scipy.integrate import odeint\n",
        "import matplotlib.pyplot as plt"
      ],
      "execution_count": null,
      "outputs": []
    },
    {
      "cell_type": "markdown",
      "metadata": {
        "id": "VpAqAzA6ouqx",
        "colab_type": "text"
      },
      "source": [
        "\n",
        "\n",
        "# Bicycle Model\n",
        "\n",
        "\n",
        "![](https://miro.medium.com/max/622/1*fQ_x52-TsFIn8OpKpqWRgA.png)\n",
        "\n",
        "\n",
        "\n",
        "$$\\frac{d}{dt}\\begin{bmatrix} x \\\\ y \\\\ \\alpha \\end{bmatrix} = \n",
        "\\begin{bmatrix} \\cos(\\alpha(t)) & 0\\\\ \\sin(\\alpha(t)) & 0\\\\\n",
        "0 & 1 \\end{bmatrix}\n",
        "\\begin{bmatrix} v(t) \\\\ \\omega(t) \\end{bmatrix}\n",
        "$$\n",
        "\n"
      ]
    },
    {
      "cell_type": "code",
      "metadata": {
        "id": "XW8bUkETon-i",
        "colab_type": "code",
        "colab": {}
      },
      "source": [
        "def bicycle (y,t):\n",
        "    v = 0.5\n",
        "    omega = 0.1\n",
        "    alpha = y[2]\n",
        "\n",
        "    # model\n",
        "    dy = np.dot(np.array([[np.cos(alpha), 0],\n",
        "                            [np.sin(alpha), 0],\n",
        "                            [0, 1]]), np.array([[v],[omega]]))\n",
        "    return dy.flatten()"
      ],
      "execution_count": null,
      "outputs": []
    },
    {
      "cell_type": "code",
      "metadata": {
        "id": "4fDGL2Gmru1J",
        "colab_type": "code",
        "colab": {}
      },
      "source": [
        "t = np.linspace(0,20, 100)\n",
        "y0 = [0,0,0]\n",
        "out = odeint(bicycle, y0, t)"
      ],
      "execution_count": null,
      "outputs": []
    },
    {
      "cell_type": "code",
      "metadata": {
        "id": "-Bq5-hPjrxvh",
        "colab_type": "code",
        "colab": {
          "base_uri": "https://localhost:8080/",
          "height": 283
        },
        "outputId": "388d3e3f-2866-483e-f386-24504114961b"
      },
      "source": [
        "plt.plot(out[:,0], out[:,1])\n",
        "plt.plot(out[0,0], out[0,1], 'o')\n",
        "plt.plot(out[-1,0], out[-1,1], 'x')\n",
        "plt.legend(['desl', 'inicio', 'fim'])"
      ],
      "execution_count": null,
      "outputs": [
        {
          "output_type": "execute_result",
          "data": {
            "text/plain": [
              "<matplotlib.legend.Legend at 0x7f543b57a3c8>"
            ]
          },
          "metadata": {
            "tags": []
          },
          "execution_count": 101
        },
        {
          "output_type": "display_data",
          "data": {
            "image/png": "[encoded data removed]",
            "text/plain": [
              "<Figure size 432x288 with 1 Axes>"
            ]
          },
          "metadata": {
            "tags": [],
            "needs_background": "light"
          }
        }
      ]
    },
    {
      "cell_type": "code",
      "metadata": {
        "id": "0Nw-SqiBr6RN",
        "colab_type": "code",
        "colab": {}
      },
      "source": [
        "global task\n",
        "task = 0\n",
        "def bicycle_controller (y,t):\n",
        "    global task\n",
        "    theta = y[2]\n",
        "    if task == 0:\n",
        "        posRef = [-2,-2]\n",
        "    else:\n",
        "        posRef = [2,2]\n",
        "\n",
        "    alpha_r = np.arctan2(posRef[1]-y[1],posRef[0]-y[0] )\n",
        "    Ref = np.array([posRef[0], posRef[1], alpha_r])\n",
        "    e =  Ref - y\n",
        "    \n",
        "    if np.sqrt(e[0]**2 + e[1]**2) < 0.1:\n",
        "        task = 1\n",
        "\n",
        "    # Controle, valores empíricos pode ser tornar instável o controle\n",
        "    v =     0.3*np.sqrt(e[0]**2 + e[1]**2)\n",
        "    alpha = 0.2*e[2]\n",
        "    \n",
        "    # Limitações fisicas\n",
        "    if abs(alpha)> np.pi/4:\n",
        "        alpha = np.pi/4*np.sign(alpha)\n",
        "    if abs(v)>0.8:\n",
        "        v = 0.8*np.sign(v)\n",
        "\n",
        "    omega = v/0.1*np.tan(alpha)\n",
        "\n",
        "\n",
        "    # model\n",
        "    dy = np.dot(np.array([[np.cos(theta), 0],\n",
        "                            [np.sin(theta), 0],\n",
        "                            [0, 1]]), np.array([[v],[omega]]))\n",
        "    return dy.flatten()"
      ],
      "execution_count": null,
      "outputs": []
    },
    {
      "cell_type": "code",
      "metadata": {
        "id": "ZzmdZCqlsj6v",
        "colab_type": "code",
        "colab": {}
      },
      "source": [
        "t = np.linspace(0,30, 1000)\n",
        "y0 = [1,0,-np.pi]\n",
        "out = odeint(bicycle_controller, y0, t)"
      ],
      "execution_count": null,
      "outputs": []
    },
    {
      "cell_type": "code",
      "metadata": {
        "id": "Kxhhy7Szsmya",
        "colab_type": "code",
        "colab": {
          "base_uri": "https://localhost:8080/",
          "height": 283
        },
        "outputId": "3a1ffddb-6a44-46fe-f076-5563e313caed"
      },
      "source": [
        "plt.plot(out[:,0], out[:,1])\n",
        "plt.plot(out[0,0], out[0,1], 'o')\n",
        "plt.plot(out[-1,0], out[-1,1], 'x')\n",
        "plt.legend(['desl', 'inicio', 'fim'])"
      ],
      "execution_count": null,
      "outputs": [
        {
          "output_type": "execute_result",
          "data": {
            "text/plain": [
              "<matplotlib.legend.Legend at 0x7f543b544048>"
            ]
          },
          "metadata": {
            "tags": []
          },
          "execution_count": 104
        },
        {
          "output_type": "display_data",
          "data": {
            "image/png": "[encoded data removed]",
            "text/plain": [
              "<Figure size 432x288 with 1 Axes>"
            ]
          },
          "metadata": {
            "tags": [],
            "needs_background": "light"
          }
        }
      ]
    },
    {
      "cell_type": "code",
      "metadata": {
        "id": "BiQQLC9gszs4",
        "colab_type": "code",
        "colab": {}
      },
      "source": [
        ""
      ],
      "execution_count": null,
      "outputs": []
    }
  ]
}